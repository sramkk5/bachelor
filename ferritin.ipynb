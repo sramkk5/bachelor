{
 "cells": [
  {
   "cell_type": "code",
   "execution_count": null,
   "id": "eb858049",
   "metadata": {},
   "outputs": [],
   "source": [
    "import urllib\n",
    "import gromacs as gmx\n",
    "import nglview as nv\n",
    "import mdtraj as md\n",
    "import numpy as np\n",
    "import matplotlib.pyplot as plt "
   ]
  },
  {
   "cell_type": "markdown",
   "id": "79e21e45",
   "metadata": {},
   "source": [
    "# Preparation"
   ]
  },
  {
   "cell_type": "code",
   "execution_count": null,
   "id": "7cd57cbc",
   "metadata": {},
   "outputs": [],
   "source": [
    "# Download the PDB file and remove water molecules\n",
    "pdb='6WX6' \n",
    "urllib.request.urlretrieve(f'https://files.rcsb.org/download/{pdb}.pdb',f'{pdb}.pdb')\n",
    "! grep -v HOH {pdb}.pdb > {pdb}_clean.pdb\n",
    "pdb = f'{pdb}_clean'"
   ]
  },
  {
   "cell_type": "code",
   "execution_count": null,
   "id": "cb90db24",
   "metadata": {},
   "outputs": [],
   "source": [
    "# Inicialize MDrunnerK8s class for running MD simulation\n",
    "mdrun=gmx.MDrunnerK8s(image='cerit.io/ljocha/gromacs:2023-2-plumed-2-9-afed-pytorch-model-cv')\n",
    "\n",
    "def run(mpi=1,omp=2,gpus=1,**kwargs):\n",
    "    \"\"\"\n",
    "    Run a GROMACS molecular dynamics simulation.\n",
    "    - mpi (int): Number of MPI processes for parallelization.\n",
    "    - omp (int): Number of OpenMP threads per MPI process.\n",
    "    - gpus (int): Number of GPUs to use for acceleration.\n",
    "    - **kwargs: Additional keyword argument.\n",
    "    \"\"\"\n",
    "    mdrun.run(pre={'cores':omp*mpi,'mpi':mpi,'omp':omp,'gpus':gpus}, mdrunargs={**kwargs,'ntomp':omp},ncores=mpi)"
   ]
  },
  {
   "cell_type": "code",
   "execution_count": null,
   "id": "a43c2633",
   "metadata": {},
   "outputs": [],
   "source": [
    "# visualize the molecular structure\n",
    "nv.show_file(f'{pdb}.pdb')"
   ]
  },
  {
   "cell_type": "markdown",
   "id": "29f15345",
   "metadata": {},
   "source": [
    "# Generating topology"
   ]
  },
  {
   "cell_type": "code",
   "execution_count": null,
   "id": "f963bfef",
   "metadata": {},
   "outputs": [],
   "source": [
    "# Generate GROMACS-formatted structure file that contains all the atoms defined within the force field (coordinate file .gro) and topology file (.top)\n",
    "# Chosed force field: AMBER99\n",
    "# Chosed water model: TIP3P\n",
    "gmx.pdb2gmx(f=pdb+'.pdb',o=pdb+'.gro',water='tip3p',ff='amber99',p=pdb+'.top',ignh=True)"
   ]
  },
  {
   "cell_type": "markdown",
   "id": "9feef22e",
   "metadata": {},
   "source": [
    "# Defining box and Solvating"
   ]
  },
  {
   "cell_type": "code",
   "execution_count": null,
   "id": "30ae3ee1",
   "metadata": {},
   "outputs": [],
   "source": [
    "# Create a cubic box around the protein structure\n",
    "# Chosen box type: dodecahedron\n",
    "# Chosen distance between protein and the edge of the box (at least): 1.5\n",
    "gmx.editconf(f=pdb+'.gro',o=pdb+'-box.gro',c=True,d='1.5', bt='dodecahedron')"
   ]
  },
  {
   "cell_type": "code",
   "execution_count": null,
   "id": "024d64b6",
   "metadata": {},
   "outputs": [],
   "source": [
    "# Solvate the system by adding water molecules (fill the box with water)\n",
    "gmx.solvate(cp=pdb+'-box.gro',cs='spc216.gro',o=pdb+'-solv.gro',p=pdb+'.top')"
   ]
  },
  {
   "cell_type": "markdown",
   "id": "b7d643b0",
   "metadata": {},
   "source": [
    "# Adding ions"
   ]
  },
  {
   "cell_type": "code",
   "execution_count": null,
   "id": "53480db5",
   "metadata": {},
   "outputs": [],
   "source": [
    "# Generate a parameter file (ions.mdp) for adding ions to neutralize the system\n",
    "# Changed coulombtype=cutoff to coulombtype=PME (as recommended in AMBER manuals)\n",
    "with open('ions.mdp','w') as ions:\n",
    "    ions.write(\"\"\"\\\n",
    "; ions.mdp - used as input into grompp to generate ions.tpr\n",
    "; Parameters describing what to do, when to stop and what to save\n",
    "integrator      = steep     ; Algorithm (steep = steepest descent minimization)\n",
    "emtol           = 1000.0    ; Stop minimization when the maximum force < 1000.0 kJ/mol/nm\n",
    "emstep          = 0.01      ; Minimization step size\n",
    "nsteps          = 50000     ; Maximum number of (minimization) steps to perform\n",
    "\n",
    "; Parameters describing how to find the neighbors of each atom and how to calculate the interactions\n",
    "nstlist         = 1         ; Frequency to update the neighbor list and long range forces\n",
    "cutoff-scheme\t= Verlet    ; Buffered neighbor searching \n",
    "ns_type         = grid      ; Method to determine neighbor list (simple, grid)\n",
    "coulombtype     = PME       ; Treatment of long range electrostatic interactions\n",
    "rcoulomb        = 1.0       ; Short-range electrostatic cut-off\n",
    "rvdw            = 1.0       ; Short-range Van der Waals cut-off\n",
    "pbc             = xyz       ; Periodic Boundary Conditions in all 3 dimensions\n",
    "\"\"\")\n",
    "\n",
    "# Prepare the ion addition simulation, create .tpr file for genion\n",
    "gmx.grompp(f='ions.mdp',c=pdb+'-solv.gro',p=pdb+'.top',o='ions.tpr')"
   ]
  },
  {
   "cell_type": "code",
   "execution_count": null,
   "id": "90a4168a",
   "metadata": {},
   "outputs": [],
   "source": [
    "# Create an index file for selecting solvent molecules\n",
    "gmx.select(s=pdb+'-solv.gro',on='solv.ndx',select='SOL')"
   ]
  },
  {
   "cell_type": "code",
   "execution_count": null,
   "id": "8d37b6d5",
   "metadata": {},
   "outputs": [],
   "source": [
    "# Add ions to neutralize the system\n",
    "gmx.genion(s='ions.tpr',n='solv.ndx',o=pdb+'-ions.gro',p=pdb+'.top',pname='NA',nname='CL',neutral=True)"
   ]
  },
  {
   "cell_type": "markdown",
   "id": "0aa9e02e",
   "metadata": {},
   "source": [
    "# Energy minimization"
   ]
  },
  {
   "cell_type": "code",
   "execution_count": null,
   "id": "a0370b66",
   "metadata": {},
   "outputs": [],
   "source": [
    "# Generate a parameter file (minim.mdp) for energy minimization\n",
    "# Changed emstep=0.01 to emstep=0.005 (as in final gmx-demo)\n",
    "with open('minim.mdp','w') as m:\n",
    "    m.write(\"\"\"\\\n",
    "; minim.mdp - used as input into grompp to generate em.tpr\n",
    "; Parameters describing what to do, when to stop and what to save\n",
    "integrator      = steep     ; Algorithm (steep = steepest descent minimization)\n",
    "emtol           = 1000.0    ; Stop minimization when the maximum force < 1000.0 kJ/mol/nm\n",
    "emstep          = 0.005     ; Minimization step size\n",
    "nsteps          = 50000     ; Maximum number of (minimization) steps to perform\n",
    "\n",
    "; Parameters describing how to find the neighbors of each atom and how to calculate the interactions\n",
    "nstlist         = 1         ; Frequency to update the neighbor list and long range forces\n",
    "cutoff-scheme   = Verlet    ; Buffered neighbor searching\n",
    "ns_type         = grid      ; Method to determine neighbor list (simple, grid)\n",
    "coulombtype     = PME       ; Treatment of long range electrostatic interactions\n",
    "rcoulomb        = 1.0       ; Short-range electrostatic cut-off\n",
    "rvdw            = 1.0       ; Short-range Van der Waals cut-off\n",
    "pbc             = xyz       ; Periodic Boundary Conditions in all 3 dimensions\n",
    "\n",
    "nstxout         = 50         \n",
    "nstvout         = 0        \n",
    "nstfout         = 0\n",
    "nstenergy       = 50         \n",
    "\"\"\")\n",
    "\n",
    "# Prepare the energy minimization simulation, create .tpr file for mdrun\n",
    "gmx.grompp(f='minim.mdp',c=pdb+'-ions.gro',p=pdb+'.top',o='em.tpr')"
   ]
  },
  {
   "cell_type": "code",
   "execution_count": null,
   "id": "9a7a45e9",
   "metadata": {},
   "outputs": [],
   "source": [
    "# Execute the minimization using GROMACS MD engine\n",
    "# generated files - em.log: ASCII-text log file of the EM process; em.edr: Binary energy file; em.trr: Binary full-precision trajectory; em.gro: Energy-minimized structure\n",
    "run(deffnm='em')"
   ]
  },
  {
   "cell_type": "code",
   "execution_count": null,
   "id": "7a989503",
   "metadata": {},
   "outputs": [],
   "source": [
    "# Analyze energy terms\n",
    "energy = gmx.energy(f='em.edr', o='potential.xvg', terms=[10])"
   ]
  },
  {
   "cell_type": "code",
   "execution_count": null,
   "id": "820b103e",
   "metadata": {},
   "outputs": [],
   "source": [
    "# Create an index file (protein.ndx) containing only atoms that belong to the protein \n",
    "gmx.select(s=pdb+'-ions.gro',on='protein.ndx',select='Protein')"
   ]
  },
  {
   "cell_type": "code",
   "execution_count": null,
   "id": "3fa40915",
   "metadata": {},
   "outputs": [],
   "source": [
    "# Convert the trajectory file to XTC format\n",
    "gmx.trjconv(s=pdb+'-ions.gro',f='em.trr',n='protein.ndx',o='em-protein.xtc')"
   ]
  },
  {
   "cell_type": "code",
   "execution_count": null,
   "id": "5614b247",
   "metadata": {},
   "outputs": [],
   "source": [
    "# Load the trajectory file and visualize it using NGLView\n",
    "tr=md.load('em-protein.xtc',top=pdb+'.gro')\n",
    "nv.show_mdtraj(tr)"
   ]
  },
  {
   "cell_type": "markdown",
   "id": "843bb20a",
   "metadata": {},
   "source": [
    "# Equilibration"
   ]
  },
  {
   "cell_type": "code",
   "execution_count": null,
   "id": "c2a1ee3a",
   "metadata": {},
   "outputs": [],
   "source": [
    "# Generate a parameter file (nvt.mdp) for NVT equilibration\n",
    "with open('nvt.mdp','w') as nvt:\n",
    "    nvt.write(\"\"\"\\\n",
    "title                   = OPLS Lysozyme NVT equilibration \n",
    "define                  = -DPOSRES  ; Position restrain the protein              \n",
    "; nvt.mdp - used as input into grompp to generate nvt.tpr\n",
    "; Run parameters\n",
    "integrator              = md        ; Algorithm (md = molecular dynamics)\n",
    "nsteps                  = 50000     ; Maximum number of steps to perform\n",
    "dt                      = 0.002     ; Time step (in ps)\n",
    "              \n",
    "; Bond parameters\n",
    "continuation            = no        ; First dynamics run\n",
    "constraint_algorithm    = lincs     ; Holonomic constraints \n",
    "constraints             = h-bonds   ; Bonds involving H are constrained\n",
    "lincs_iter              = 1         ; Accuracy of LINCS\n",
    "lincs_order             = 4         ; Also related to accuracy              \n",
    "              \n",
    "; Nonbonded settings \n",
    "cutoff-scheme           = Verlet    ; Buffered neighbor searching\n",
    "ns_type                 = grid      ; Search neighboring grid cells\n",
    "nstlist                 = 10        ; 20 fs, largely irrelevant with Verlet\n",
    "rcoulomb                = 1.0       ; Short-range electrostatic cutoff (in nm)\n",
    "rvdw                    = 1.0       ; Short-range van der Waals cutoff (in nm)\n",
    "DispCorr                = EnerPres  ; Account for cut-off vdW scheme\n",
    "              \n",
    "; Electrostatics\n",
    "coulombtype             = PME       ; Particle Mesh Ewald for long-range electrostatics\n",
    "pme_order               = 4         ; cubic interpolation\n",
    "fourierspacing          = 0.16      ; Grid spacing for FFT              \n",
    "\n",
    "; Periodic boundary conditions\n",
    "pbc                     = xyz       ; 3-D PBC\n",
    "\n",
    "; Temperature coupling\n",
    "tcoupl                  = V-rescale             ; Temperature coupling type\n",
    "tc-grps                 = Protein Non-Protein   ; Two coupling groups - more accurate\n",
    "tau_t                   = 0.1     0.1           ; Time constant, in ps\n",
    "ref_t                   = 300     300           ; Reference temperature, one for each group, in K\n",
    "              \n",
    "; Pressure coupling\n",
    "pcoupl                  = no        ; No pressure coupling in NVT              \n",
    "\n",
    "; Velocity generation\n",
    "gen_vel                 = yes       ; Generate velocities at start\n",
    "gen_temp                = 300       ; Initial temperature (in K)\n",
    "gen_seed                = -1        ; Random seed for velocity generation\n",
    "\n",
    "; Output control\n",
    "nstxout                 = 500       ; Save coordinates every 1000 steps\n",
    "nstvout                 = 500       ; Save velocities every 1000 steps\n",
    "nstenergy               = 500       ; Save energies every 1000 steps\n",
    "nstlog                  = 500       ; Update log file every 1.0 ps              \n",
    "\"\"\")\n",
    "    \n",
    "# Prepare the NVT equilibration simulation, create .tpr file for mdrun\n",
    "gmx.grompp(f='nvt.mdp',c='em.gro',r='em.gro',p=pdb+'.top',o='nvt.tpr')"
   ]
  },
  {
   "cell_type": "code",
   "execution_count": null,
   "id": "c390653e",
   "metadata": {},
   "outputs": [],
   "source": [
    "# Execute the NVT equilibration using GROMACS MD engine\n",
    "run(deffnm='nvt')"
   ]
  },
  {
   "cell_type": "code",
   "execution_count": null,
   "id": "a5500007",
   "metadata": {},
   "outputs": [],
   "source": [
    "# Plot\n",
    "temp = np.loadtxt('temp.xvg',comments=['#','@'])\n",
    "press = np.loadtxt('press.xvg',comments=['#','@'])\n",
    "\n",
    "plt.figure(figsize=(15,9))\n",
    "plt.subplot(211)\n",
    "plt.plot(press[:,0],press[:,1])\n",
    "plt.title('isothermal-isochoric equilibration')\n",
    "plt.grid()\n",
    "#plt.xlabel('time (ps)')\n",
    "plt.ylabel(\"pressure (bar)\")\n",
    "\n",
    "\n",
    "plt.subplot(212)\n",
    "plt.xlabel('time (ps)')\n",
    "plt.ylabel('temperature (K)')\n",
    "plt.grid()\n",
    "plt.plot(temp[:,0],temp[:,1])\n",
    "\n",
    "plt.show()"
   ]
  },
  {
   "cell_type": "code",
   "execution_count": null,
   "id": "6fdea41c",
   "metadata": {},
   "outputs": [],
   "source": [
    "# Generate a parameter file (npt.mdp) for NPT equilibration   \n",
    "with open('npt.mdp','w') as nvt:\n",
    "    nvt.write(\"\"\"\\\n",
    "define                  = -DPOSRES  ; Position restrain the protein              \n",
    "; Run parameters\n",
    "integrator              = md        ; Algorithm (md = molecular dynamics)\n",
    "nsteps                  = 50000     ; Maximum number of steps to perform\n",
    "dt                      = 0.002     ; Time step (in ps)\n",
    "\n",
    "; Bond parameters\n",
    "continuation            = yes       ; Restarting after NVT \n",
    "constraint_algorithm    = lincs     ; Holonomic constraints \n",
    "constraints             = h-bonds   ; Bonds involving H are constrained\n",
    "lincs_iter              = 1         ; Accuracy of LINCS\n",
    "lincs_order             = 4         ; Also related to accuracy\n",
    "                                          \n",
    "; Nonbonded settings \n",
    "cutoff-scheme           = Verlet    ; Buffered neighbor searching\n",
    "ns_type                 = grid      ; Search neighboring grid cells\n",
    "nstlist                 = 10        ; 20 fs, largely irrelevant with Verlet\n",
    "rcoulomb                = 1.0       ; Short-range electrostatic cutoff (in nm)\n",
    "rvdw                    = 1.0       ; Short-range van der Waals cutoff (in nm)\n",
    "DispCorr                = EnerPres  ; Account for cut-off vdW scheme\n",
    "              \n",
    "; Electrostatics\n",
    "coulombtype             = PME       ; Particle Mesh Ewald for long-range electrostatics\n",
    "pme_order               = 4         ; Cubic interpolation\n",
    "fourierspacing          = 0.16      ; Grid spacing for FFT              \n",
    "                                  \n",
    "; Periodic boundary conditions\n",
    "pbc                     = xyz       ; 3-D PBC\n",
    "\n",
    "; Temperature coupling\n",
    "tcoupl                  = V-rescale             ; Temperature coupling type\n",
    "tc-grps                 = Protein Non-Protein   ; Two coupling groups - more accurate\n",
    "tau_t                   = 0.1     0.1           ; Time constant, in ps\n",
    "ref_t                   = 300     300           ; Reference temperature, one for each group, in K\n",
    "              \n",
    "; Pressure coupling\n",
    "; ljocha pcoupl                  = Parrinello-Rahman     ; Pressure coupling on in NPT\n",
    "pcoupl                  = C-rescale\n",
    "pcoupltype              = isotropic  ; uniform scaling of box vectors         \n",
    "; ljocha tau_p                   = 2.0                   ; Time constant, in ps\n",
    "tau_p                   = 5.0\n",
    "ref_p                   = 1.0       ; Reference pressure, in bar\n",
    "compressibility         = 4.5e-5    ; Isothermal compressibility of water, bar^-1\n",
    "refcoord_scaling        = com\n",
    "              \n",
    "; Velocity generation\n",
    "gen_vel                 = no        ; Velocity generation is off \n",
    "\n",
    "; Output control\n",
    "nstxout                 = 500       ; Save coordinates every 1000 steps\n",
    "nstvout                 = 500       ; Save velocities every 1000 steps\n",
    "nstenergy               = 500       ; Save energies every 1000 steps\n",
    "nstlog                  = 500       ; Update log file every 1.0 ps              \n",
    "\"\"\")\n",
    "\n",
    "# Prepare the NPT equilibration simulation, create .tpr file for mdrun\n",
    "gmx.grompp(f='npt.mdp', c='nvt.gro', r='nvt.gro', p=pdb+'.top', o='npt.tpr')"
   ]
  },
  {
   "cell_type": "code",
   "execution_count": null,
   "id": "1d1437cb",
   "metadata": {},
   "outputs": [],
   "source": [
    "# Execute the NPT equilibration using GROMACS MD engine\n",
    "run(deffnm='npt')"
   ]
  },
  {
   "cell_type": "code",
   "execution_count": null,
   "id": "daeca9ee",
   "metadata": {},
   "outputs": [],
   "source": [
    "# Analyze pressure progression\n",
    "gmx.energy(f='npt.edr',o='press.xvg',input='Pressure')\n",
    "\n",
    "# Analyze density\n",
    "gmx.energy(f='npt.edr',o='dens.xvg',input='Density')\n",
    "\n",
    "# Analyze temperature progression\n",
    "gmx.energy(f='npt.edr',o='temp.xvg',input='Temperature')"
   ]
  },
  {
   "cell_type": "code",
   "execution_count": null,
   "id": "8ae65a61",
   "metadata": {},
   "outputs": [],
   "source": [
    "# Plot\n",
    "temp = np.loadtxt('temp.xvg',comments=['#','@'])\n",
    "press = np.loadtxt('press.xvg',comments=['#','@'])\n",
    "dens = np.loadtxt('dens.xvg',comments=['#','@'])\n",
    "\n",
    "plt.figure(figsize=(15,9))\n",
    "plt.subplot(311)\n",
    "plt.plot(press[:,0],press[:,1])\n",
    "plt.title('isothermal-isobaric equilibration')\n",
    "plt.grid()\n",
    "#plt.xlabel('time (ps)')\n",
    "plt.ylabel(\"pressure (bar)\")\n",
    "\n",
    "plt.subplot(312)\n",
    "plt.ylabel('density (kg/m3)')\n",
    "plt.grid()\n",
    "plt.plot(dens[:,0],dens[:,1])\n",
    "\n",
    "plt.subplot(313)\n",
    "plt.xlabel('time (ps)')\n",
    "plt.ylabel('temperature (K)')\n",
    "plt.grid()\n",
    "plt.plot(temp[:,0],temp[:,1])\n",
    "\n",
    "plt.show()"
   ]
  },
  {
   "cell_type": "markdown",
   "id": "1dc00602",
   "metadata": {},
   "source": [
    "# Production MD"
   ]
  },
  {
   "cell_type": "code",
   "execution_count": null,
   "id": "77832f90",
   "metadata": {},
   "outputs": [],
   "source": [
    "time = 100 #ps\n",
    "nsteps = time * 500 # XXX: dt = 0.002\n",
    "\n",
    "# Generate a parameter file (md.mdp) for MD simulation \n",
    "with open('md.mdp','w') as mdp:\n",
    "    mdp.write(f\"\"\"\\\n",
    "integrator              = md        ; Leap-frog integrator\n",
    "dt                      = 0.002     ; 2 fs\n",
    "\n",
    "; Bond parameters\n",
    "continuation            = yes       ; Restarting after NPT \n",
    "constraint_algorithm    = lincs     ; Holonomic constraints \n",
    "constraints             = h-bonds   ; Bonds involving H are constrained\n",
    "lincs_iter              = 1         ; Accuracy of LINCS\n",
    "lincs_order             = 4         ; Also related to accuracy\n",
    "              \n",
    "; Nonbonded settings\n",
    "cutoff-scheme           = Verlet    ; Buffered neighbor searching\n",
    "ns_type                 = grid      ; Search neighboring grid cells\n",
    "nstlist                 = 10        ; 20 fs, largely irrelevant with Verlet scheme\n",
    "rcoulomb                = 1.0       ; Short-range electrostatic cutoff (in nm)\n",
    "rvdw                    = 1.0       ; Short-range van der Waals cutoff (in nm)\n",
    "              \n",
    "; Electrostatics\n",
    "coulombtype             = PME       ; Particle Mesh Ewald for long-range electrostatics\n",
    "pme_order               = 4         ; Cubic interpolation\n",
    "fourierspacing          = 0.16      ; Grid spacing for FFT\n",
    "              \n",
    "; Periodic boundary conditions\n",
    "pbc                     = xyz       ; 3-D PBC              \n",
    "              \n",
    "; Temperature coupling\n",
    "tcoupl                  = V-rescale             ; Temperature coupling type\n",
    "tc-grps                 = Protein Non-Protein   ; Two coupling groups - more accurate\n",
    "tau_t                   = 0.1     0.1           ; Time constant, in ps\n",
    "ref_t                   = 300     300           ; Reference temperature, one for each group, in K\n",
    "              \n",
    "; Pressure coupling\n",
    "pcoupl                  = Parrinello-Rahman     ; Pressure coupling on in NPT\n",
    "pcoupltype              = isotropic             ; uniform scaling of box vectors\n",
    "tau_p                   = 2.0                   ; time constant, in ps\n",
    "ref_p                   = 1.0                   ; reference pressure, in bar\n",
    "compressibility         = 4.5e-5                ; isothermal compressibility of water, bar^-1\n",
    "              \n",
    "; Dispersion correction\n",
    "DispCorr                = EnerPres  ; account for cut-off vdW scheme\n",
    "              \n",
    "; Velocity generation\n",
    "gen_vel                 = no        ; Velocity generation is off \n",
    "nsteps = {nsteps}\n",
    "\n",
    "; Output control\n",
    "nstxout                 = 0         ; Suppress bulky .trr file by specifying \n",
    "nstvout                 = 0         ; 0 for output frequency of nstxout,\n",
    "nstfout                 = 0         ; nstvout, and nstfout\n",
    "nstenergy               = 5000      ; Save energies every 10.0 ps\n",
    "nstlog                  = 5000      ; Update log file every 10.0 ps\n",
    "nstxout-compressed      = 5000      ; Save compressed coordinates every 10.0 ps\n",
    "compressed-x-grps       = System    ; Save the whole system\n",
    "\"\"\")    \n",
    "\n",
    "\n",
    "# Prepare the MD simulation, create .tpr file for mdrun\n",
    "#gmx.grompp(f='md.mdp', c='npt.gro', t='npt.cpt', p=pdb+'.top', o='md_0_1.tpr')\n",
    "gmx.grompp(f=\"md.mdp\",c=\"npt.gro\",r=\"npt.gro\",p=pdb+'.top',o=\"md.tpr\")\n",
    "# gmx.grompp(f=\"md.mdp\",c=\"npt.gro\",r=\"npt.gro\",p=pdb+'.top',o=\"md.tpr\")"
   ]
  },
  {
   "cell_type": "code",
   "execution_count": null,
   "id": "32675c1b",
   "metadata": {},
   "outputs": [],
   "source": [
    "# Execute the MD simulation\n",
    "run(deffnm='md')"
   ]
  },
  {
   "cell_type": "markdown",
   "id": "9efc08fe",
   "metadata": {},
   "source": [
    "# Analysis"
   ]
  },
  {
   "cell_type": "code",
   "execution_count": null,
   "id": "40213ec1",
   "metadata": {},
   "outputs": [],
   "source": [
    "# Create an index file (protein.ndx) containing only atoms that belong to the protein\n",
    "# gmx.select(s=pdb+'-ions.gro',on='protein.ndx',select='Protein')\n",
    "gmx.select(s='md_0_1.gro',on='protein.ndx',select='Protein') "
   ]
  },
  {
   "cell_type": "code",
   "execution_count": null,
   "id": "a5498a40",
   "metadata": {},
   "outputs": [],
   "source": [
    "# Convert the trajectory file to XTC format\n",
    "# gmx.trjconv(s=pdb+'-ions.gro',f='em.trr',n='protein.ndx',o='em-protein.xtc')"
   ]
  },
  {
   "cell_type": "code",
   "execution_count": null,
   "id": "b0e3b7a7",
   "metadata": {},
   "outputs": [],
   "source": [
    "# Convert the trajectory file to XTC format\n",
    "# gmx.trjconv(s=pdb+'-ions.gro',f='md_0_1.trr',n='protein.ndx',o='em-protein.xtc')\n",
    "gmx.trjconv(s='md_0_1.gro',f='md_0_1.trr',n='protein.ndx',o='md_0_1.xtc')"
   ]
  },
  {
   "cell_type": "code",
   "execution_count": null,
   "id": "ebcaba2b",
   "metadata": {},
   "outputs": [],
   "source": [
    "# Process trajectory to remove the effects of periodic boundary conditions\n",
    "gmx.trjconv(s='md_0_1.tpr', f='md_0_1.xtc', o='md_0_1_noPBC.xtc', pbc='mol', center=True, group=1, ogroup=0)"
   ]
  },
  {
   "cell_type": "code",
   "execution_count": null,
   "id": "fc914112",
   "metadata": {},
   "outputs": [],
   "source": [
    "# Calculate RMSD\n",
    "gmx.rms(s='md_0_1.tpr', f='md_0_1_noPBC.xtc', o='rmsd.xvg', tu='ns', group=4, fitgroup=4)"
   ]
  },
  {
   "cell_type": "code",
   "execution_count": null,
   "id": "2ec4cca8",
   "metadata": {},
   "outputs": [],
   "source": [
    "# Calculate RMSD relative to the crystal structure\n",
    "gmx.rms(s='em.tpr', f='md_0_1_noPBC.xtc', o='rmsd_xtal.xvg', tu='ns', group=4, fitgroup=4)"
   ]
  },
  {
   "cell_type": "code",
   "execution_count": null,
   "id": "fb2a36c9",
   "metadata": {},
   "outputs": [],
   "source": [
    "# Run gyrate analysis\n",
    "gmx.gyrate(s='md_0_1.tpr', f='md_0_1_noPBC.xtc', o='gyrate.xvg')"
   ]
  },
  {
   "cell_type": "markdown",
   "id": "d7fc7d7f",
   "metadata": {},
   "source": [
    "# Visualization"
   ]
  },
  {
   "cell_type": "code",
   "execution_count": null,
   "id": "a5015709",
   "metadata": {},
   "outputs": [],
   "source": [
    "# Load the trajectory file and visualize it using NGLView\n",
    "# tr=md.load('em-protein.xtc',top=pdb+'.gro')\n",
    "tr=md.load('md_0_1.xtc',top=pdb+'.top')\n",
    "\n",
    "nv.show_mdtraj(tr)"
   ]
  },
  {
   "cell_type": "code",
   "execution_count": null,
   "id": "9a75bbed",
   "metadata": {},
   "outputs": [],
   "source": []
  }
 ],
 "metadata": {
  "kernelspec": {
   "display_name": "Python 3 (ipykernel)",
   "language": "python",
   "name": "python3"
  },
  "language_info": {
   "codemirror_mode": {
    "name": "ipython",
    "version": 3
   },
   "file_extension": ".py",
   "mimetype": "text/x-python",
   "name": "python",
   "nbconvert_exporter": "python",
   "pygments_lexer": "ipython3",
   "version": "3.11.6"
  }
 },
 "nbformat": 4,
 "nbformat_minor": 5
}
