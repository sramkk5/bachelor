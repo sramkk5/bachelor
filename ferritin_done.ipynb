{
 "cells": [
  {
   "cell_type": "code",
   "execution_count": null,
   "id": "eb858049",
   "metadata": {},
   "outputs": [],
   "source": [
    "import urllib\n",
    "import gromacs as gmx\n",
    "import nglview as nv\n",
    "import mdtraj as md"
   ]
  },
  {
   "cell_type": "code",
   "execution_count": null,
   "id": "7cd57cbc",
   "metadata": {},
   "outputs": [],
   "source": [
    "# Download the PDB file and remove water molecules\n",
    "# pdb='1L2Y' \n",
    "pdb='1FHA' \n",
    "urllib.request.urlretrieve(f'https://files.rcsb.org/download/{pdb}.pdb',f'{pdb}.pdb')\n",
    "! grep -v HOH {pdb}.pdb > {pdb}_clean.pdb\n",
    "pdb = f'{pdb}_clean'"
   ]
  },
  {
   "cell_type": "markdown",
   "id": "29f15345",
   "metadata": {},
   "source": [
    "# Generating topology"
   ]
  },
  {
   "cell_type": "code",
   "execution_count": null,
   "id": "f963bfef",
   "metadata": {},
   "outputs": [],
   "source": [
    "# Generate GROMACS-formatted structure file that contains all the atoms defined within the force field (coordinate file .gro) and topology file (.top)\n",
    "# Chosed force field: AMBER\n",
    "# Chosed water model: TIP3P\n",
    "gmx.pdb2gmx(f=pdb+'.pdb',o=pdb+'.gro',water='tip3p',ff='amber99',p=pdb+'.top',ignh=True)"
   ]
  },
  {
   "cell_type": "markdown",
   "id": "9feef22e",
   "metadata": {},
   "source": [
    "# Defining box and Solvating"
   ]
  },
  {
   "cell_type": "code",
   "execution_count": null,
   "id": "30ae3ee1",
   "metadata": {},
   "outputs": [],
   "source": [
    "# Create a cubic box around the protein structure\n",
    "# Chosen box type: dodecahedron\n",
    "# Chosen distance between protein and the edge of the box (at least): 1.5\n",
    "gmx.editconf(f=pdb+'.gro',o=pdb+'-box.gro',c=True,d='1.5', bt='dodecahedron')"
   ]
  },
  {
   "cell_type": "code",
   "execution_count": null,
   "id": "024d64b6",
   "metadata": {},
   "outputs": [],
   "source": [
    "# Solvate the system by adding water molecules (fill the box with water)\n",
    "gmx.solvate(cp=pdb+'-box.gro',cs='spc216.gro',o=pdb+'-solv.gro',p=pdb+'.top')"
   ]
  },
  {
   "cell_type": "markdown",
   "id": "b7d643b0",
   "metadata": {},
   "source": [
    "# Adding ions"
   ]
  },
  {
   "cell_type": "code",
   "execution_count": null,
   "id": "53480db5",
   "metadata": {},
   "outputs": [],
   "source": [
    "# Generate a parameter file (ions.mdp) for adding ions to neutralize the system\n",
    "# Changed coulombtype=cutoff to coulombtype=PME (as recommended in AMBER manuals)\n",
    "with open('ions.mdp','w') as ions:\n",
    "    ions.write(\"\"\"\\\n",
    "; ions.mdp - used as input into grompp to generate ions.tpr\n",
    "; Parameters describing what to do, when to stop and what to save\n",
    "integrator  = steep         ; Algorithm (steep = steepest descent minimization)\n",
    "emtol       = 1000.0        ; Stop minimization when the maximum force < 1000.0 kJ/mol/nm\n",
    "emstep      = 0.01          ; Minimization step size\n",
    "nsteps      = 50000         ; Maximum number of (minimization) steps to perform\n",
    "\n",
    "; Parameters describing how to find the neighbors of each atom and how to calculate the interactions\n",
    "nstlist         = 1         ; Frequency to update the neighbor list and long range forces\n",
    "cutoff-scheme\t= Verlet    ; Buffered neighbor searching \n",
    "ns_type         = grid      ; Method to determine neighbor list (simple, grid)\n",
    "coulombtype     = PME       ; Treatment of long range electrostatic interactions\n",
    "rcoulomb        = 1.0       ; Short-range electrostatic cut-off\n",
    "rvdw            = 1.0       ; Short-range Van der Waals cut-off\n",
    "pbc             = xyz       ; Periodic Boundary Conditions in all 3 dimensions\n",
    "\"\"\")\n",
    "\n",
    "# Prepare the ion addition simulation, create .tpr file for genion\n",
    "gmx.grompp(f='ions.mdp',c=pdb+'-solv.gro',p=pdb+'.top',o='ions.tpr')"
   ]
  },
  {
   "cell_type": "code",
   "execution_count": null,
   "id": "90a4168a",
   "metadata": {},
   "outputs": [],
   "source": [
    "# Create an index file for selecting solvent molecules\n",
    "gmx.select(s=pdb+'-solv.gro',on='solv.ndx',select='SOL')"
   ]
  },
  {
   "cell_type": "code",
   "execution_count": null,
   "id": "8d37b6d5",
   "metadata": {},
   "outputs": [],
   "source": [
    "# Add ions to neutralize the system\n",
    "gmx.genion(s='ions.tpr',n='solv.ndx',o=pdb+'-ions.gro',p=pdb+'.top',pname='NA',nname='CL',neutral=True)"
   ]
  },
  {
   "cell_type": "markdown",
   "id": "0aa9e02e",
   "metadata": {},
   "source": [
    "# Energy minimization"
   ]
  },
  {
   "cell_type": "code",
   "execution_count": null,
   "id": "a0370b66",
   "metadata": {},
   "outputs": [],
   "source": [
    "# Generate a parameter file (minim.mdp) for energy minimization\n",
    "with open('minim.mdp','w') as m:\n",
    "    m.write(\"\"\"\\\n",
    "; minim.mdp - used as input into grompp to generate em.tpr\n",
    "; Parameters describing what to do, when to stop and what to save\n",
    "integrator  = steep         ; Algorithm (steep = steepest descent minimization)\n",
    "emtol       = 1000.0        ; Stop minimization when the maximum force < 1000.0 kJ/mol/nm\n",
    "emstep      = 0.01          ; Minimization step size\n",
    "nsteps      = 50000         ; Maximum number of (minimization) steps to perform\n",
    "\n",
    "; Parameters describing how to find the neighbors of each atom and how to calculate the interactions\n",
    "nstlist         = 1         ; Frequency to update the neighbor list and long range forces\n",
    "cutoff-scheme   = Verlet    ; Buffered neighbor searching\n",
    "ns_type         = grid      ; Method to determine neighbor list (simple, grid)\n",
    "coulombtype     = PME       ; Treatment of long range electrostatic interactions\n",
    "rcoulomb        = 1.0       ; Short-range electrostatic cut-off\n",
    "rvdw            = 1.0       ; Short-range Van der Waals cut-off\n",
    "pbc             = xyz       ; Periodic Boundary Conditions in all 3 dimensions\n",
    "\n",
    "nstxout                 = 50         \n",
    "nstvout                 = 0        \n",
    "nstfout                 = 0\n",
    "nstenergy               = 50         \n",
    "\"\"\")\n",
    "\n",
    "# Prepare the energy minimization simulation, create .tpr file for mdrun\n",
    "gmx.grompp(f='minim.mdp',c=pdb+'-ions.gro',p=pdb+'.top',o='em.tpr')"
   ]
  },
  {
   "cell_type": "code",
   "execution_count": null,
   "id": "5b6afc62",
   "metadata": {},
   "outputs": [],
   "source": [
    "mdrun=gmx.MDrunnerK8s()"
   ]
  },
  {
   "cell_type": "code",
   "execution_count": null,
   "id": "9a7a45e9",
   "metadata": {},
   "outputs": [],
   "source": [
    "ompthreads=2\n",
    "mpiranks=1\n",
    "# Execute the minimization using GROMACS MD engine\n",
    "mdrun.run(pre={'cores':ompthreads*mpiranks,'gpus':1}, mdrunargs={'deffnm':'em','ntomp':ompthreads},ncores=mpiranks)\n",
    "# generated files - em.log: ASCII-text log file of the EM process; em.edr: Binary energy file; em.trr: Binary full-precision trajectory; em.gro: Energy-minimized structure"
   ]
  },
  {
   "cell_type": "code",
   "execution_count": null,
   "id": "7a989503",
   "metadata": {},
   "outputs": [],
   "source": [
    "# Analyze energy terms\n",
    "energy = gmx.energy(f='em.edr', o='potential.xvg', terms=[10])"
   ]
  },
  {
   "cell_type": "code",
   "execution_count": null,
   "id": "0cfbbcf0",
   "metadata": {},
   "outputs": [],
   "source": [
    "# plot the graph"
   ]
  },
  {
   "cell_type": "markdown",
   "id": "843bb20a",
   "metadata": {},
   "source": [
    "# Equilibration"
   ]
  },
  {
   "cell_type": "code",
   "execution_count": null,
   "id": "c2a1ee3a",
   "metadata": {},
   "outputs": [],
   "source": [
    "# Generate a parameter file (nvt.mdp) for NVT equilibration\n",
    "with open('nvt.mdp','w') as nvt:\n",
    "    nvt.write(\"\"\"\\\n",
    "; nvt.mdp - used as input into grompp to generate nvt.tpr\n",
    "; Parameters describing what to do, when to stop and what to save\n",
    "integrator  = md            ; Algorithm (md = molecular dynamics)\n",
    "nsteps      = 50000         ; Maximum number of steps to perform\n",
    "dt          = 0.002         ; Time step (in ps)\n",
    "\n",
    "; Parameters describing how to find the neighbors of each atom and how to calculate the interactions\n",
    "nstlist         = 10        ; Frequency to update the neighbor list and long range forces\n",
    "cutoff-scheme   = Verlet    ; Buffered neighbor searching\n",
    "ns_type         = grid      ; Method to determine neighbor list (simple, grid)\n",
    "coulombtype     = PME       ; Treatment of long range electrostatic interactions\n",
    "rcoulomb        = 1.0       ; Short-range electrostatic cut-off\n",
    "rvdw            = 1.0       ; Short-range Van der Waals cut-off\n",
    "pbc             = xyz       ; Periodic Boundary Conditions in all 3 dimensions\n",
    "\n",
    "; Temperature coupling\n",
    "tcoupl          = V-rescale ; Temperature coupling type\n",
    "tc-grps         = Protein   ; Group(s) to couple separately\n",
    "tau_t           = 0.1       ; Time constant (in ps) for coupling\n",
    "ref_t           = 300       ; Reference temperature (in K)\n",
    "\n",
    "; Velocity generation\n",
    "gen_vel         = yes       ; Generate velocities at start\n",
    "gen_temp        = 300       ; Initial temperature (in K)\n",
    "gen_seed        = -1        ; Random seed for velocity generation\n",
    "\n",
    "; Output control\n",
    "nstxout         = 1000      ; Save coordinates every 1000 steps\n",
    "nstvout         = 1000      ; Save velocities every 1000 steps\n",
    "nstenergy       = 1000      ; Save energies every 1000 steps\n",
    "\"\"\")\n",
    "    \n",
    "# Prepare the NVT equilibration simulation, create .tpr file for mdrun\n",
    "gmx.grompp(f='nvt.mdp',c='em.gro',r='em.gro',p=pdb+'.top',o='nvt.tpr')"
   ]
  },
  {
   "cell_type": "code",
   "execution_count": null,
   "id": "c390653e",
   "metadata": {},
   "outputs": [],
   "source": [
    "# Execute the NVT equilibration using GROMACS MD engine\n",
    "mdrun.run(pre={'cores':ompthreads*mpiranks,'gpus':1}, mdrunargs={'deffnm':'nvt','ntomp':ompthreads},ncores=mpiranks)"
   ]
  },
  {
   "cell_type": "code",
   "execution_count": null,
   "id": "74d68019",
   "metadata": {},
   "outputs": [],
   "source": [
    "# Analyze temperature progression\n",
    "gmx.energy(f='nvt.edr',o='temperature.xvg',terms=[16])"
   ]
  },
  {
   "cell_type": "code",
   "execution_count": null,
   "id": "6fdea41c",
   "metadata": {},
   "outputs": [],
   "source": [
    "# Generate a parameter file (npt.mdp) for NPT equilibration\n",
    "with open('npt.mdp', 'w') as npt:\n",
    "    npt.write(\"\"\"\\\n",
    "; Parameters describing what to do, when to stop and what to save\n",
    "integrator  = md            ; Molecular dynamics (MD) integration algorithm\n",
    "dt          = 0.002         ; Time step (picoseconds)\n",
    "nsteps      = 50000         ; Maximum number of time steps to perform\n",
    "nstxout     = 1000          ; Save coordinates every 1000 steps\n",
    "nstvout     = 1000          ; Save velocities every 1000 steps\n",
    "nstenergy   = 1000          ; Save energies every 1000 steps\n",
    "nstlog      = 1000          ; Update log file every 1000 steps\n",
    "\n",
    "; Parameters describing how to find the neighbors of each atom and how to calculate the interactions\n",
    "nstlist     = 10            ; Frequency to update the neighbor list and long range forces\n",
    "cutoff-scheme   = Verlet    ; Buffered neighbor searching\n",
    "ns_type     = grid          ; Method to determine neighbor list (simple, grid)\n",
    "coulombtype = PME           ; Treatment of long range electrostatic interactions\n",
    "rcoulomb    = 1.0           ; Short-range electrostatic cut-off (nanometers)\n",
    "rvdw        = 1.0           ; Short-range Van der Waals cut-off (nanometers)\n",
    "pbc         = xyz           ; Periodic Boundary Conditions in all 3 dimensions\n",
    "\n",
    "; Parameters related to temperature coupling\n",
    "tcoupl      = V-rescale     ; Temperature coupling method\n",
    "tc-grps     = System        ; Group(s) for temperature coupling\n",
    "tau_t       = 0.1           ; Coupling time constant (picoseconds)\n",
    "ref_t       = 300           ; Reference temperature (Kelvin)\n",
    "\n",
    "; Parameters related to pressure coupling\n",
    "pcoupl      = Parrinello-Rahman    ; Pressure coupling method\n",
    "pcoupltype  = isotropic             ; Apply pressure isotropically\n",
    "tau_p       = 2.0                   ; Pressure coupling time constant (picoseconds)\n",
    "ref_p       = 1.0                   ; Reference pressure (bar)\n",
    "compressibility = 4.5e-5            ; Isothermal compressibility (1/bar)\n",
    "\n",
    "; Other options\n",
    "gen_vel     = no            ; Do not generate velocities\n",
    "continuation = yes          ; Continue from previous NVT equilibration\n",
    "\"\"\")\n",
    "\n",
    "# Prepare the NPT equilibration simulation, create .tpr file for mdrun\n",
    "gmx.grompp(f='npt.mdp', c='nvt.gro', r='nvt.gro', t='nvt.cpt', p=pdb+'.top', o='npt.tpr')"
   ]
  },
  {
   "cell_type": "code",
   "execution_count": null,
   "id": "1d1437cb",
   "metadata": {},
   "outputs": [],
   "source": [
    "# Execute the NPT equilibration using GROMACS MD engine\n",
    "mdrun.run(pre={'cores':ompthreads*mpiranks,'gpus':1}, mdrunargs={'deffnm':'npt','ntomp':ompthreads},ncores=mpiranks)"
   ]
  },
  {
   "cell_type": "code",
   "execution_count": null,
   "id": "daeca9ee",
   "metadata": {},
   "outputs": [],
   "source": [
    "# Analyze pressure progression\n",
    "gmx.energy(f='npt.edr', o='pressure.xvg', properties=['Pressure'])\n",
    "\n",
    "# Analyze density\n",
    "gmx.energy(f='npt.edr', o='density.xvg', properties=['Density'])"
   ]
  },
  {
   "cell_type": "markdown",
   "id": "1dc00602",
   "metadata": {},
   "source": [
    "# Production MD"
   ]
  },
  {
   "cell_type": "code",
   "execution_count": null,
   "id": "77832f90",
   "metadata": {},
   "outputs": [],
   "source": [
    "# Generate a parameter file (md.mdp) for MD simulation\n",
    "with open('md.mdp', 'w') as md:\n",
    "    md.write(\"\"\"\\\n",
    "; md.mdp - used as input into grompp to generate md_0_1.tpr\n",
    "; Parameters describing what to do, when to stop and what to save\n",
    "integrator  = md            ; Molecular dynamics integration method (md: molecular dynamics)\n",
    "dt          = 0.002         ; Time step in ps\n",
    "nsteps      = 500000        ; Total number of time steps (1 ns)\n",
    "nstxout     = 5000          ; Frequency to write coordinates to trajectory file (1 snapshot every 10 ps)\n",
    "nstvout     = 5000          ; Frequency to write velocities to trajectory file\n",
    "nstenergy   = 5000          ; Frequency to write energies to energy file\n",
    "nstlog      = 5000          ; Frequency to write data to log file\n",
    "nstxtcout   = 5000          ; Frequency to write coordinates to xtc trajectory file (for visualization)\n",
    "continuation= yes           ; Continue from a previous run (required when continuing from NPT)\n",
    "constraint_algorithm = lincs   ; Constraint algorithm for bond lengths and angles\n",
    "constraints = all-bonds       ; All bonds (including hydrogen bonds) constrained\n",
    "lincs_iter  = 1               ; Number of iterations for the LINCS algorithm\n",
    "lincs_order = 4               ; Highest order in the expansion of the constraint coupling matrix\n",
    "cutoff-scheme   = Verlet    ; Buffered neighbor searching\n",
    "ns_type         = grid      ; Method to determine neighbor list (simple, grid)\n",
    "coulombtype     = PME       ; Treatment of long range electrostatic interactions\n",
    "rcoulomb        = 1.0       ; Short-range electrostatic cut-off\n",
    "rvdw            = 1.0       ; Short-range Van der Waals cut-off\n",
    "pbc             = xyz       ; Periodic Boundary Conditions in all 3 dimensions\n",
    "tcoupl          = V-rescale ; Velocity rescaling thermostat\n",
    "tc-grps         = Protein   ; Apply temperature coupling to protein group\n",
    "tau_t           = 0.1       ; Time constant for temperature coupling (in ps)\n",
    "ref_t           = 300       ; Reference temperature for thermostat (in K)\n",
    "pcoupl          = Parrinello-Rahman ; Parrinello-Rahman pressure coupling\n",
    "pcoupltype      = isotropic  ; Apply isotropic pressure coupling\n",
    "tau_p           = 2.0       ; Time constant for pressure coupling (in ps)\n",
    "ref_p           = 1.0       ; Reference pressure for pressure coupling (in bar)\n",
    "compressibility = 4.5e-5    ; Isothermal compressibility of water (in bar^-1)\n",
    "gen_vel         = no        ; Do not generate velocities at the beginning (read from NPT)\n",
    "\"\"\")\n",
    "\n",
    "# Prepare the MD simulation, create .tpr file for mdrun\n",
    "gmx.grompp(f='md.mdp', c='npt.gro', t='npt.cpt', p=pdb+'.top', o='md_0_1.tpr')"
   ]
  },
  {
   "cell_type": "code",
   "execution_count": null,
   "id": "32675c1b",
   "metadata": {},
   "outputs": [],
   "source": [
    "# Execute the MD simulation\n",
    "mdrun.run(pre={'cores':ompthreads*mpiranks,'gpus':1}, mdrunargs={'deffnm':'md_0_1','ntomp':ompthreads},ncores=mpiranks)"
   ]
  },
  {
   "cell_type": "markdown",
   "id": "9efc08fe",
   "metadata": {},
   "source": [
    "# Analysis"
   ]
  },
  {
   "cell_type": "code",
   "execution_count": null,
   "id": "40213ec1",
   "metadata": {},
   "outputs": [],
   "source": [
    "# Create an index file (protein.ndx) containing only atoms that belong to the protein\n",
    "# gmx.select(s=pdb+'-ions.gro',on='protein.ndx',select='Protein')\n",
    "gmx.select(s='md_0_1.gro',on='protein.ndx',select='Protein')"
   ]
  },
  {
   "cell_type": "code",
   "execution_count": null,
   "id": "a5498a40",
   "metadata": {},
   "outputs": [],
   "source": [
    "# Convert the trajectory file to XTC format\n",
    "# gmx.trjconv(s=pdb+'-ions.gro',f='em.trr',n='protein.ndx',o='em-protein.xtc')"
   ]
  },
  {
   "cell_type": "code",
   "execution_count": null,
   "id": "b0e3b7a7",
   "metadata": {},
   "outputs": [],
   "source": [
    "# Convert the trajectory file to XTC format\n",
    "# gmx.trjconv(s=pdb+'-ions.gro',f='md_0_1.trr',n='protein.ndx',o='em-protein.xtc')\n",
    "gmx.trjconv(s='md_0_1.gro',f='md_0_1.trr',n='protein.ndx',o='md_0_1.xtc')"
   ]
  },
  {
   "cell_type": "code",
   "execution_count": null,
   "id": "ebcaba2b",
   "metadata": {},
   "outputs": [],
   "source": [
    "# Process trajectory to remove the effects of periodic boundary conditions\n",
    "gmx.trjconv(s='md_0_1.tpr', f='md_0_1.xtc', o='md_0_1_noPBC.xtc', pbc='mol', center=True, group=1, ogroup=0)"
   ]
  },
  {
   "cell_type": "code",
   "execution_count": null,
   "id": "fc914112",
   "metadata": {},
   "outputs": [],
   "source": [
    "# Calculate RMSD\n",
    "gmx.rms(s='md_0_1.tpr', f='md_0_1_noPBC.xtc', o='rmsd.xvg', tu='ns', group=4, fitgroup=4)"
   ]
  },
  {
   "cell_type": "code",
   "execution_count": null,
   "id": "2ec4cca8",
   "metadata": {},
   "outputs": [],
   "source": [
    "# Calculate RMSD relative to the crystal structure\n",
    "gmx.rms(s='em.tpr', f='md_0_1_noPBC.xtc', o='rmsd_xtal.xvg', tu='ns', group=4, fitgroup=4)"
   ]
  },
  {
   "cell_type": "code",
   "execution_count": null,
   "id": "fb2a36c9",
   "metadata": {},
   "outputs": [],
   "source": [
    "# Run gyrate analysis\n",
    "gmx.gyrate(s='md_0_1.tpr', f='md_0_1_noPBC.xtc', o='gyrate.xvg')"
   ]
  },
  {
   "cell_type": "markdown",
   "id": "d7fc7d7f",
   "metadata": {},
   "source": [
    "# Visualization"
   ]
  },
  {
   "cell_type": "code",
   "execution_count": null,
   "id": "a5015709",
   "metadata": {},
   "outputs": [],
   "source": [
    "# Load the trajectory file and visualize it using NGLView\n",
    "# tr=md.load('em-protein.xtc',top=pdb+'.gro')\n",
    "tr=md.load('md_0_1.xtc',top=pdb+'.top')\n",
    "\n",
    "nv.show_mdtraj(tr)"
   ]
  },
  {
   "cell_type": "code",
   "execution_count": null,
   "id": "9a75bbed",
   "metadata": {},
   "outputs": [],
   "source": []
  }
 ],
 "metadata": {
  "kernelspec": {
   "display_name": "Python 3 (ipykernel)",
   "language": "python",
   "name": "python3"
  },
  "language_info": {
   "codemirror_mode": {
    "name": "ipython",
    "version": 3
   },
   "file_extension": ".py",
   "mimetype": "text/x-python",
   "name": "python",
   "nbconvert_exporter": "python",
   "pygments_lexer": "ipython3",
   "version": "3.11.6"
  }
 },
 "nbformat": 4,
 "nbformat_minor": 5
}
