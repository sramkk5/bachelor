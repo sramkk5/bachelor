{
 "cells": [
  {
   "cell_type": "code",
   "execution_count": null,
   "id": "eb858049",
   "metadata": {},
   "outputs": [],
   "source": [
    "import urllib\n",
    "import gromacs as gmx\n",
    "import nglview as nv\n",
    "import mdtraj as md"
   ]
  },
  {
   "cell_type": "code",
   "execution_count": null,
   "id": "adc5cb04",
   "metadata": {},
   "outputs": [],
   "source": [
    "pdb='1L2Y'\n",
    "urllib.request.urlretrieve(f'https://files.rcsb.org/download/{pdb}.pdb',f'{pdb}.pdb')"
   ]
  },
  {
   "cell_type": "code",
   "execution_count": null,
   "id": "f963bfef",
   "metadata": {},
   "outputs": [],
   "source": [
    "gmx.pdb2gmx(f=pdb+'.pdb',o=pdb+'.gro',water='tip3p',ff='amber99',p=pdb+'.top',ignh=True)"
   ]
  },
  {
   "cell_type": "code",
   "execution_count": null,
   "id": "30ae3ee1",
   "metadata": {},
   "outputs": [],
   "source": [
    "gmx.editconf(f=pdb+'.gro',o=pdb+'-box.gro',c=True,d='1.5', bt='dodecahedron')"
   ]
  },
  {
   "cell_type": "code",
   "execution_count": null,
   "id": "024d64b6",
   "metadata": {},
   "outputs": [],
   "source": [
    "gmx.solvate(cp=pdb+'-box.gro',cs='spc216.gro',o=pdb+'-solv.gro',p=pdb+'.top')"
   ]
  },
  {
   "cell_type": "code",
   "execution_count": null,
   "id": "53480db5",
   "metadata": {},
   "outputs": [],
   "source": [
    "with open('ions.mdp','w') as ions:\n",
    "    ions.write(\"\"\"\\\n",
    "; ions.mdp - used as input into grompp to generate ions.tpr\n",
    "; Parameters describing what to do, when to stop and what to save\n",
    "integrator  = steep         ; Algorithm (steep = steepest descent minimization)\n",
    "emtol       = 1000.0        ; Stop minimization when the maximum force < 1000.0 kJ/mol/nm\n",
    "emstep      = 0.01          ; Minimization step size\n",
    "nsteps      = 50000         ; Maximum number of (minimization) steps to perform\n",
    "\n",
    "; Parameters describing how to find the neighbors of each atom and how to calculate the interactions\n",
    "nstlist         = 1         ; Frequency to update the neighbor list and long range forces\n",
    "cutoff-scheme\t= Verlet    ; Buffered neighbor searching \n",
    "ns_type         = grid      ; Method to determine neighbor list (simple, grid)\n",
    "coulombtype     = cutoff    ; Treatment of long range electrostatic interactions\n",
    "rcoulomb        = 1.0       ; Short-range electrostatic cut-off\n",
    "rvdw            = 1.0       ; Short-range Van der Waals cut-off\n",
    "pbc             = xyz       ; Periodic Boundary Conditions in all 3 dimensions\n",
    "\"\"\")\n",
    "    \n",
    "gmx.grompp(f='ions.mdp',c=pdb+'-solv.gro',p=pdb+'.top',o='ions.tpr')"
   ]
  },
  {
   "cell_type": "code",
   "execution_count": null,
   "id": "90a4168a",
   "metadata": {},
   "outputs": [],
   "source": [
    "gmx.select(s=pdb+'-solv.gro',on='solv.ndx',select='SOL')"
   ]
  },
  {
   "cell_type": "code",
   "execution_count": null,
   "id": "8d37b6d5",
   "metadata": {},
   "outputs": [],
   "source": [
    "gmx.genion(s='ions.tpr',n='solv.ndx',o=pdb+'-ions.gro',p=pdb+'.top',pname='NA',nname='CL',neutral=True)"
   ]
  },
  {
   "cell_type": "code",
   "execution_count": null,
   "id": "a0370b66",
   "metadata": {},
   "outputs": [],
   "source": [
    "with open('minim.mdp','w') as m:\n",
    "    m.write(\"\"\"\\\n",
    "; minim.mdp - used as input into grompp to generate em.tpr\n",
    "; Parameters describing what to do, when to stop and what to save\n",
    "integrator  = steep         ; Algorithm (steep = steepest descent minimization)\n",
    "emtol       = 1000.0        ; Stop minimization when the maximum force < 1000.0 kJ/mol/nm\n",
    "emstep      = 0.01          ; Minimization step size\n",
    "nsteps      = 50000         ; Maximum number of (minimization) steps to perform\n",
    "\n",
    "; Parameters describing how to find the neighbors of each atom and how to calculate the interactions\n",
    "nstlist         = 1         ; Frequency to update the neighbor list and long range forces\n",
    "cutoff-scheme   = Verlet    ; Buffered neighbor searching\n",
    "ns_type         = grid      ; Method to determine neighbor list (simple, grid)\n",
    "coulombtype     = PME       ; Treatment of long range electrostatic interactions\n",
    "rcoulomb        = 1.0       ; Short-range electrostatic cut-off\n",
    "rvdw            = 1.0       ; Short-range Van der Waals cut-off\n",
    "pbc             = xyz       ; Periodic Boundary Conditions in all 3 dimensions\n",
    "\n",
    "nstxout                 = 50         \n",
    "nstvout                 = 0        \n",
    "nstfout                 = 0\n",
    "nstenergy               = 50         \n",
    "\"\"\")\n",
    "    \n",
    "gmx.grompp(f='minim.mdp',c=pdb+'-ions.gro',p=pdb+'.top',o='em.tpr')"
   ]
  },
  {
   "cell_type": "code",
   "execution_count": null,
   "id": "5b6afc62",
   "metadata": {},
   "outputs": [],
   "source": [
    "mdrun=gmx.MDrunnerK8s()"
   ]
  },
  {
   "cell_type": "code",
   "execution_count": null,
   "id": "9a7a45e9",
   "metadata": {},
   "outputs": [],
   "source": [
    "ompthreads=2\n",
    "mpiranks=1\n",
    "mdrun.run(pre={'cores':ompthreads*mpiranks,'gpus':1}, mdrunargs={'deffnm':'em','ntomp':ompthreads},ncores=mpiranks)"
   ]
  },
  {
   "cell_type": "code",
   "execution_count": null,
   "id": "40213ec1",
   "metadata": {},
   "outputs": [],
   "source": [
    "gmx.select(s=pdb+'-ions.gro',on='protein.ndx',select='Protein')"
   ]
  },
  {
   "cell_type": "code",
   "execution_count": null,
   "id": "a5498a40",
   "metadata": {},
   "outputs": [],
   "source": [
    "gmx.trjconv(s=pdb+'-ions.gro',f='em.trr',n='protein.ndx',o='em-protein.xtc')"
   ]
  },
  {
   "cell_type": "code",
   "execution_count": null,
   "id": "a5015709",
   "metadata": {},
   "outputs": [],
   "source": [
    "tr=md.load('em-protein.xtc',top=pdb+'.gro')\n",
    "nv.show_mdtraj(tr)"
   ]
  },
  {
   "cell_type": "code",
   "execution_count": null,
   "id": "9a75bbed",
   "metadata": {},
   "outputs": [],
   "source": []
  }
 ],
 "metadata": {
  "kernelspec": {
   "display_name": "Python 3 (ipykernel)",
   "language": "python",
   "name": "python3"
  },
  "language_info": {
   "codemirror_mode": {
    "name": "ipython",
    "version": 3
   },
   "file_extension": ".py",
   "mimetype": "text/x-python",
   "name": "python",
   "nbconvert_exporter": "python",
   "pygments_lexer": "ipython3",
   "version": "3.11.6"
  }
 },
 "nbformat": 4,
 "nbformat_minor": 5
}
